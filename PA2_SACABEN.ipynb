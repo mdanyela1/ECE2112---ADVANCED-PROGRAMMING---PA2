{
 "cells": [
  {
   "cell_type": "markdown",
   "id": "dab937f1-fed6-48c2-99e7-fa3a2a36e9ef",
   "metadata": {},
   "source": [
    "NORMALIZATION PROBLEM"
   ]
  },
  {
   "cell_type": "code",
   "execution_count": 7,
   "id": "f9c7ba97-3197-493a-b8d2-7cb828a93730",
   "metadata": {},
   "outputs": [
    {
     "name": "stdout",
     "output_type": "stream",
     "text": [
      "Original matrix X:\n",
      " [[0.49248207 0.55316437 0.08148372 0.76135162 0.39074255]\n",
      " [0.20675486 0.82488701 0.48832024 0.83720906 0.29748397]\n",
      " [0.3059165  0.06730729 0.62170494 0.86093559 0.57648721]\n",
      " [0.01571551 0.45651486 0.39295845 0.4833257  0.6239417 ]\n",
      " [0.16206995 0.58472078 0.90337693 0.53942382 0.7984222 ]]\n",
      "\n",
      "Normalized matrix Xnorm:\n",
      " [[-0.00230365  0.23626101 -1.61809075  1.05472237 -0.40227948]\n",
      " [-1.12560339  1.3045036  -0.01866536  1.35294616 -0.76891359]\n",
      " [-0.73576217 -1.67382359  0.50571944  1.44622393  0.32795173]\n",
      " [-1.87665002 -0.1437041  -0.39356796 -0.03830076  0.51451298]\n",
      " [-1.30127636  0.36032095  1.6130766   0.18224179  1.20046061]]\n"
     ]
    }
   ],
   "source": [
    "import numpy as np\n",
    "\n",
    "# Create a random 5x5 ndarray\n",
    "X = np.random.rand(5, 5)  # values between 0 and 1\n",
    "\n",
    "# Normalized: (X - mean) / std\n",
    "Xnorm = (X - X.mean()) / X.std()\n",
    "\n",
    "print(\"Original matrix X:\\n\", X)\n",
    "print(\"\\nNormalized matrix Xnorm:\\n\", Xnorm)\n"
   ]
  },
  {
   "cell_type": "markdown",
   "id": "3114ceb5-bfe2-4da1-97a8-80422841de3d",
   "metadata": {},
   "source": [
    "DIVISIBLE BY 3 PROBLEM"
   ]
  },
  {
   "cell_type": "code",
   "execution_count": 6,
   "id": "a8ebf059-b7b4-421a-9524-cca71241a161",
   "metadata": {},
   "outputs": [
    {
     "name": "stdout",
     "output_type": "stream",
     "text": [
      "Matrix A:\n",
      " [[    1     4     9    16    25    36    49    64    81   100]\n",
      " [  121   144   169   196   225   256   289   324   361   400]\n",
      " [  441   484   529   576   625   676   729   784   841   900]\n",
      " [  961  1024  1089  1156  1225  1296  1369  1444  1521  1600]\n",
      " [ 1681  1764  1849  1936  2025  2116  2209  2304  2401  2500]\n",
      " [ 2601  2704  2809  2916  3025  3136  3249  3364  3481  3600]\n",
      " [ 3721  3844  3969  4096  4225  4356  4489  4624  4761  4900]\n",
      " [ 5041  5184  5329  5476  5625  5776  5929  6084  6241  6400]\n",
      " [ 6561  6724  6889  7056  7225  7396  7569  7744  7921  8100]\n",
      " [ 8281  8464  8649  8836  9025  9216  9409  9604  9801 10000]]\n",
      "\n",
      "Elements divisible by 3:\n",
      " [   9   36   81  144  225  324  441  576  729  900 1089 1296 1521 1764\n",
      " 2025 2304 2601 2916 3249 3600 3969 4356 4761 5184 5625 6084 6561 7056\n",
      " 7569 8100 8649 9216 9801]\n"
     ]
    }
   ],
   "source": [
    "import numpy as np\n",
    "\n",
    "# Create a 10x10 ndarray of squares of first 100 positive integers\n",
    "A = np.arange(1, 101) ** 2\n",
    "A = A.reshape(10, 10)\n",
    "\n",
    "# Extract elements divisible by 3\n",
    "divby3 = A[A % 3 == 0]\n",
    "\n",
    "# Save result (make sure variable names match!)\n",
    "np.save(\"divby3.npy\", divby3)\n",
    "\n",
    "print(\"Matrix A:\\n\", A)\n",
    "print(\"\\nElements divisible by 3:\\n\", divby3)\n"
   ]
  }
 ],
 "metadata": {
  "kernelspec": {
   "display_name": "Python 3 (ipykernel)",
   "language": "python",
   "name": "python3"
  },
  "language_info": {
   "codemirror_mode": {
    "name": "ipython",
    "version": 3
   },
   "file_extension": ".py",
   "mimetype": "text/x-python",
   "name": "python",
   "nbconvert_exporter": "python",
   "pygments_lexer": "ipython3",
   "version": "3.13.5"
  }
 },
 "nbformat": 4,
 "nbformat_minor": 5
}
